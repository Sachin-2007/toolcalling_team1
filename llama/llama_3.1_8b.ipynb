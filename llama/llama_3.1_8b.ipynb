{
  "metadata": {
    "kernelspec": {
      "display_name": "Python 3",
      "name": "python3"
    },
    "language_info": {
      "name": "python",
      "version": "3.10.14",
      "mimetype": "text/x-python",
      "codemirror_mode": {
        "name": "ipython",
        "version": 3
      },
      "pygments_lexer": "ipython3",
      "nbconvert_exporter": "python",
      "file_extension": ".py"
    },
    "kaggle": {
      "accelerator": "gpu",
      "dataSources": [
        {
          "sourceId": 9633601,
          "sourceType": "datasetVersion",
          "datasetId": 5881584
        }
      ],
      "dockerImageVersionId": 30787,
      "isInternetEnabled": true,
      "language": "python",
      "sourceType": "notebook",
      "isGpuEnabled": true
    },
    "colab": {
      "provenance": [],
      "gpuType": "T4"
    },
    "accelerator": "GPU"
  },
  "nbformat_minor": 0,
  "nbformat": 4,
  "cells": [
    {
      "cell_type": "code",
      "source": [
        "!sudo apt-get install -y pciutils\n",
        "!curl -fsSL https://ollama.com/install.sh | sh # download ollama api\n",
        "from IPython.display import clear_output\n",
        "\n",
        "import os\n",
        "import threading\n",
        "import subprocess\n",
        "import requests\n",
        "import json\n",
        "\n",
        "def ollama():\n",
        "    os.environ['OLLAMA_HOST'] = '0.0.0.0:11434'\n",
        "    os.environ['OLLAMA_ORIGINS'] = '*'\n",
        "    subprocess.Popen([\"ollama\", \"serve\"])\n",
        "\n",
        "ollama_thread = threading.Thread(target=ollama)\n",
        "ollama_thread.start()"
      ],
      "metadata": {
        "execution": {
          "iopub.status.busy": "2024-10-15T20:09:28.379995Z",
          "iopub.execute_input": "2024-10-15T20:09:28.381039Z",
          "iopub.status.idle": "2024-10-15T20:09:58.618239Z",
          "shell.execute_reply.started": "2024-10-15T20:09:28.380997Z",
          "shell.execute_reply": "2024-10-15T20:09:58.617080Z"
        },
        "trusted": true,
        "colab": {
          "base_uri": "https://localhost:8080/"
        },
        "id": "cs1yrpfx1VG4",
        "outputId": "8133b367-c63d-4cd4-8cc5-58e1bf409ca9"
      },
      "execution_count": 1,
      "outputs": [
        {
          "output_type": "stream",
          "name": "stdout",
          "text": [
            "Reading package lists... Done\n",
            "Building dependency tree... Done\n",
            "Reading state information... Done\n",
            "The following additional packages will be installed:\n",
            "  libpci3 pci.ids\n",
            "The following NEW packages will be installed:\n",
            "  libpci3 pci.ids pciutils\n",
            "0 upgraded, 3 newly installed, 0 to remove and 49 not upgraded.\n",
            "Need to get 343 kB of archives.\n",
            "After this operation, 1,581 kB of additional disk space will be used.\n",
            "Get:1 http://archive.ubuntu.com/ubuntu jammy/main amd64 pci.ids all 0.0~2022.01.22-1 [251 kB]\n",
            "Get:2 http://archive.ubuntu.com/ubuntu jammy/main amd64 libpci3 amd64 1:3.7.0-6 [28.9 kB]\n",
            "Get:3 http://archive.ubuntu.com/ubuntu jammy/main amd64 pciutils amd64 1:3.7.0-6 [63.6 kB]\n",
            "Fetched 343 kB in 2s (200 kB/s)\n",
            "debconf: unable to initialize frontend: Dialog\n",
            "debconf: (No usable dialog-like program is installed, so the dialog based frontend cannot be used. at /usr/share/perl5/Debconf/FrontEnd/Dialog.pm line 78, <> line 3.)\n",
            "debconf: falling back to frontend: Readline\n",
            "debconf: unable to initialize frontend: Readline\n",
            "debconf: (This frontend requires a controlling tty.)\n",
            "debconf: falling back to frontend: Teletype\n",
            "dpkg-preconfigure: unable to re-open stdin: \n",
            "Selecting previously unselected package pci.ids.\n",
            "(Reading database ... 123629 files and directories currently installed.)\n",
            "Preparing to unpack .../pci.ids_0.0~2022.01.22-1_all.deb ...\n",
            "Unpacking pci.ids (0.0~2022.01.22-1) ...\n",
            "Selecting previously unselected package libpci3:amd64.\n",
            "Preparing to unpack .../libpci3_1%3a3.7.0-6_amd64.deb ...\n",
            "Unpacking libpci3:amd64 (1:3.7.0-6) ...\n",
            "Selecting previously unselected package pciutils.\n",
            "Preparing to unpack .../pciutils_1%3a3.7.0-6_amd64.deb ...\n",
            "Unpacking pciutils (1:3.7.0-6) ...\n",
            "Setting up pci.ids (0.0~2022.01.22-1) ...\n",
            "Setting up libpci3:amd64 (1:3.7.0-6) ...\n",
            "Setting up pciutils (1:3.7.0-6) ...\n",
            "Processing triggers for man-db (2.10.2-1) ...\n",
            "Processing triggers for libc-bin (2.35-0ubuntu3.4) ...\n",
            "/sbin/ldconfig.real: /usr/local/lib/libtbbbind_2_5.so.3 is not a symbolic link\n",
            "\n",
            "/sbin/ldconfig.real: /usr/local/lib/libur_adapter_opencl.so.0 is not a symbolic link\n",
            "\n",
            "/sbin/ldconfig.real: /usr/local/lib/libur_adapter_level_zero.so.0 is not a symbolic link\n",
            "\n",
            "/sbin/ldconfig.real: /usr/local/lib/libtbbbind_2_0.so.3 is not a symbolic link\n",
            "\n",
            "/sbin/ldconfig.real: /usr/local/lib/libtbbmalloc.so.2 is not a symbolic link\n",
            "\n",
            "/sbin/ldconfig.real: /usr/local/lib/libtbbmalloc_proxy.so.2 is not a symbolic link\n",
            "\n",
            "/sbin/ldconfig.real: /usr/local/lib/libtbb.so.12 is not a symbolic link\n",
            "\n",
            "/sbin/ldconfig.real: /usr/local/lib/libtbbbind.so.3 is not a symbolic link\n",
            "\n",
            "/sbin/ldconfig.real: /usr/local/lib/libur_loader.so.0 is not a symbolic link\n",
            "\n",
            ">>> Installing ollama to /usr/local\n",
            ">>> Downloading Linux amd64 bundle\n",
            "############################################################################################# 100.0%\n",
            ">>> Creating ollama user...\n",
            ">>> Adding ollama user to video group...\n",
            ">>> Adding current user to ollama group...\n",
            ">>> Creating ollama systemd service...\n",
            ">>> NVIDIA GPU installed.\n",
            ">>> The Ollama API is now available at 127.0.0.1:11434.\n",
            ">>> Install complete. Run \"ollama\" from the command line.\n"
          ]
        }
      ]
    },
    {
      "cell_type": "code",
      "source": [
        "from IPython.display import clear_output\n",
        "!ollama pull llama3.1:8b\n",
        "# !ollama run hf.co/meta-llama/Llama-3.2-1B-Instruct\n",
        "clear_output()"
      ],
      "metadata": {
        "execution": {
          "iopub.status.busy": "2024-10-15T20:09:58.620733Z",
          "iopub.execute_input": "2024-10-15T20:09:58.621199Z",
          "iopub.status.idle": "2024-10-15T20:10:17.367045Z",
          "shell.execute_reply.started": "2024-10-15T20:09:58.621150Z",
          "shell.execute_reply": "2024-10-15T20:10:17.365553Z"
        },
        "trusted": true,
        "id": "cQg85SeN1VG5"
      },
      "execution_count": 2,
      "outputs": []
    },
    {
      "cell_type": "code",
      "source": [
        "import json\n",
        "import requests\n",
        "from typing import List, Dict, Any\n",
        "from pydantic import BaseModel\n",
        "# import ollama\n",
        "\n",
        "# Pydantic models for tool and output structures\n",
        "class ToolArgument(BaseModel):\n",
        "    arg_name: str\n",
        "    arg_type: str\n",
        "    is_array: bool\n",
        "    is_required: bool\n",
        "\n",
        "class ToolOutput(BaseModel):\n",
        "    arg_type: str\n",
        "    is_array: bool\n",
        "    is_required: bool\n",
        "\n",
        "class Tool(BaseModel):\n",
        "    tool_name: str\n",
        "    tool_description: str\n",
        "    args: List[ToolArgument]\n",
        "    output: ToolOutput\n",
        "\n",
        "class Argument(BaseModel):\n",
        "    argument_name: str\n",
        "    argument_value: Any\n",
        "\n",
        "class ToolCall(BaseModel):\n",
        "    tool_name: str\n",
        "    arguments: List[Argument]"
      ],
      "metadata": {
        "execution": {
          "iopub.status.busy": "2024-10-15T19:47:03.030334Z",
          "iopub.execute_input": "2024-10-15T19:47:03.030669Z",
          "iopub.status.idle": "2024-10-15T19:47:03.382000Z",
          "shell.execute_reply.started": "2024-10-15T19:47:03.030634Z",
          "shell.execute_reply": "2024-10-15T19:47:03.380986Z"
        },
        "trusted": true,
        "id": "xQmArwBy1VG5"
      },
      "execution_count": 32,
      "outputs": []
    },
    {
      "cell_type": "code",
      "source": [
        "def load_tools(file_path: str) -> List[Tool]:\n",
        "    with open(file_path, 'r') as f:\n",
        "        tools_data = json.load(f)\n",
        "    return [Tool(**tool) for tool in tools_data]\n",
        "\n",
        "def query_ollama(prompt):\n",
        "    url = \"http://localhost:11434/api/generate\"\n",
        "    # \"http://localhost:11434/api/chat\"\n",
        "    data={\n",
        "            \"model\": \"llama3.1:8b\",\n",
        "            \"prompt\": prompt,\n",
        "            \"stream\": False,\n",
        "        }\n",
        "    response = requests.post(url, data=json.dumps(data))\n",
        "    if response.status_code == 200:\n",
        "        # print(response.text)\n",
        "        return response.json()['response']\n",
        "    else:\n",
        "        raise Exception(f\"Ollama API request failed with status code {response.status_code}\")\n"
      ],
      "metadata": {
        "id": "hevzoxp6IrGF"
      },
      "execution_count": 5,
      "outputs": []
    },
    {
      "cell_type": "code",
      "source": [
        "tools = load_tools('/content/tools.json')\n"
      ],
      "metadata": {
        "id": "i3SIEOJlaq3B"
      },
      "execution_count": 60,
      "outputs": []
    },
    {
      "cell_type": "code",
      "source": [
        "file_name = '/content/data (1).json'\n",
        "\n",
        "with open(file_name, 'r') as file:\n",
        "    ground_truth= file.read()\n",
        "\n",
        "print(type(ground_truth))\n",
        "# print(json_string)\n"
      ],
      "metadata": {
        "colab": {
          "base_uri": "https://localhost:8080/"
        },
        "id": "T6-YMJA44T8r",
        "outputId": "0b038306-4931-47f7-9645-1c4b278597a0"
      },
      "execution_count": 61,
      "outputs": [
        {
          "output_type": "stream",
          "name": "stdout",
          "text": [
            "<class 'str'>\n"
          ]
        }
      ]
    },
    {
      "cell_type": "code",
      "source": [
        "def process_query(query, tools):\n",
        "    tools_description = \"\\n\".join([f\"{tool.tool_name}: {tool.tool_description}\" for tool in tools])\n",
        "    # args = \"\\n\".join([\", \".join([f\"{tool}: {arg.arg_name} ({arg.arg_type})\" for arg in tool.args]) for tool in tools])\n",
        "\n",
        "\n",
        "    prompt = f\"\"\"\n",
        "You are a query solver. You will be given tools{tools}. Using those tools, you have to solve the query.\n",
        "To solve the query{query}, at each point, you have to ask sub-questions. These sub-questions are \"What is the next tool to use, its arguments and argument values?\". Look at answers to the previous sub-questions, which will give you context of how the current set of tools have been chosen so far. Compare this to the greater context, which is, how to solve the next question.\n",
        "\n",
        "Some important points :\n",
        "1) Tool description and argument description are very important. Read them to understand what exactly a certain tool generates as output or what inputs a tool can get.\n",
        "2) Output of tools in the previous step is input to tool for current statement. Compare descriptions, types and examples to get a huge clue.\n",
        "3) While using a tool, understand all it's argument from its description, type and what values it give ouputs and then select the required argument.\n",
        "3) Always check if authentication tools like \"who_am_i\", \"team_id\", \"get_sprint_id\", etc. are needed at any point. But don't just see whether the tools are needed also see if any of the argument is required, then only go for these authentication tools.\n",
        "4) Take care of \"type\" argument in \"works_list\" is issues, tickets or tasks are explicitly mentioned.\n",
        "5) Stop once you feel the task is complete and no further tools are needed to solve the query.\n",
        "6) To answer the query, you are only allowed to use the tools that we have provided.\n",
        "7) Understand the query and it's intent then, if the question is simply unsolvable using any tool we have, only return [].\n",
        "8) Use \"$$PREV[i]\" to reference the output of the i-th previous tool call.\n",
        "9) Try not to use a tool more than once while solving a particular query.\n",
        "10)Try to use minimum number of tools required to solve the query completely, don't add extra tools other than what is required.\n",
        "11) Only provide the JSON output, without any additional explanations in this format\n",
        "Whenever a query comes go through all the above points to solve it and follow the above steps carefully, but the output should be just in json format as given below: **\n",
        "Follow this format for output:\n",
        "[\n",
        "    {{\n",
        "        \"tool_name\": \"<tool_name>\",\n",
        "        \"arguments\": [\n",
        "            {{\n",
        "                \"argument_name\": \"<arg_name>\",\n",
        "                \"argument_value\": <value>\n",
        "            }},\n",
        "            ...\n",
        "        ]\n",
        "    }},\n",
        "    ...\n",
        "]\n",
        ".\n",
        "Refer to these examples for better clarity:\n",
        "\n",
        "1. Query: Check dependencies for ’FEAT-123’ and ’BUG-987’ then add to sprint\n",
        "   Output: [\n",
        "    {{\n",
        "      \"tool_name\": \"validate_work_dependency\",\n",
        "      \"arguments\": [\n",
        "        {{\n",
        "          \"argument_name\": \"work_item_ids\",\n",
        "          \"argument_value\": [\n",
        "            \"FEAT-123\",\n",
        "            \"BUG-987\"\n",
        "          ]\n",
        "        }}\n",
        "      ]\n",
        "    }},\n",
        "    {{\n",
        "      \"tool_name\": \"get_sprint_id\",\n",
        "      \"arguments\": []\n",
        "    }},\n",
        "    {{\n",
        "      \"tool_name\": \"add_work_items_to_sprint\",\n",
        "      \"arguments\": [\n",
        "        {{\n",
        "          \"argument_name\": \"work_ids\",\n",
        "          \"argument_value\": [\n",
        "            \"FEAT-123\",\n",
        "            \"BUG-987\"\n",
        "          ]\n",
        "        }},\n",
        "        {{\n",
        "          \"argument_name\": \"sprint_id\",\n",
        "          \"argument_value\": \"$$PREV[1]\"\n",
        "        }}\n",
        "      ]\n",
        "    }}\n",
        "  ]\n",
        "\n",
        "2. Query: Find issues or tasks created by users ’DEVU-123’ or ’DEVU-456’\n",
        "   Output: [\n",
        "  \"tool_name\": \"works_list\",\n",
        "  \"arguments\": [\n",
        "    {{\n",
        "      \"argument_name\": \"created_by\",\n",
        "      \"argument_value\": [\n",
        "        \"DEVU-123\",\n",
        "        \"DEVU-456\"\n",
        "      ]\n",
        "    }},\n",
        "    {{\n",
        "      \"argument_name\": \"type\",\n",
        "      \"argument_value\": [\n",
        "        \"issue\",\n",
        "        \"task\"\n",
        "      ]\n",
        "    }}\n",
        "  ]\n",
        "}}\n",
        "]\n",
        "3. Query: Assign validated ’TASK-789’ and ’ISSUE-321’ to current user and sync with calendar\n",
        "   Output:[\n",
        "    {{\n",
        "      \"tool_name\": \"who_am_i\",\n",
        "      \"arguments\": []\n",
        "    }},\n",
        "    {{\n",
        "      \"tool_name\": \"validate_work_dependency\",\n",
        "      \"arguments\": [\n",
        "        {{\n",
        "          \"argument_name\": \"work_item_ids\",\n",
        "          \"argument_value\": [\n",
        "            \"TASK-789\",\n",
        "            \"ISSUE-321\"\n",
        "          ]\n",
        "        }}\n",
        "      ]\n",
        "    }},\n",
        "    {{\n",
        "      \"tool_name\": \"assign_work_items\",\n",
        "      \"arguments\": [\n",
        "        {{\n",
        "          \"argument_name\": \"work_item_ids\",\n",
        "          \"argument_value\": [\n",
        "            \"TASK-789\",\n",
        "            \"ISSUE-321\"\n",
        "          ]\n",
        "        }},\n",
        "        {{\n",
        "          \"argument_name\": \"user_id\",\n",
        "          \"argument_value\": \"$$PREV[0]\"\n",
        "        }}\n",
        "      ]\n",
        "    }},\n",
        "    {{\n",
        "      \"tool_name\": \"sync_work_items_with_calendar\",\n",
        "      \"arguments\": [\n",
        "        {{\n",
        "          \"argument_name\": \"user_id\",\n",
        "          \"argument_value\": \"$$PREV[0]\"\n",
        "        }},\n",
        "        {{\n",
        "          \"argument_name\": \"work_item_ids\",\n",
        "          \"argument_value\": [\n",
        "            \"TASK-789\",\n",
        "            \"ISSUE-321\"\n",
        "          ]\n",
        "        }}\n",
        "      ]\n",
        "    }}\n",
        "    ]\n",
        "4.  Query:  \"What is the meaning of life?\"\n",
        "    Output:[]\n",
        "\"\"\"\n",
        "    ollama_output = query_ollama(prompt)\n",
        "    return ollama_output"
      ],
      "metadata": {
        "id": "Ngwx1mOfIxZm"
      },
      "execution_count": 62,
      "outputs": []
    },
    {
      "cell_type": "code",
      "source": [
        "answer = \"str\"\n",
        "user_query =\"a\"\n",
        "i = 0\n",
        "list_queries  = [\"List work items owned by 'DEVU-789' needing response for organization 'REV-654'\",\"List issues with 'blocker' severity categorized as tickets\",\"Find issues or tasks created by users 'DEVU-123' or 'DEVU-456'\",\"Fetch 'p3' priority work items that need customer response for 'REV-333'\",\"list their high-severity tickets for 'Globex' user\",\"Summarize tickets from 'support' channel\",\"Prioritize tasks for part 'ENH-789'\",\"Fetch 'medium' severity work items in 'QA Review' or 'Testing'\",\"Summarize work items similar to don:core:dvrv-us-1:devo/0:issue/1\",\"What is the meaning of life?\",\"Who is the president of India?\",\"Prioritize my P0 issues and add them to the current sprint\",\"Summarize high severity tickets from the customer UltimateCustomer\",\"What are my all issues in the triage stage under part FEAT-123? Summarize them.\",\"List all high severity tickets coming in from slack from customer Cust123 and generate a summary of them.\",\"Given a customer meeting transcript T , create action items and add them to my current sprint\",\"Find work items related to 'FEAT-123' and prioritize them.\",\"Find work items with a 'severe' priority and summarize them.\",\"Get all work items similar to TKT-123, summarize them, create issues from that summary, and prioritize them\",]\n",
        "while i < len(list_queries):\n",
        "  user_query = list_queries[i]\n",
        "  i+=1\n",
        "  # user_query = input(\"Enter your query (or 'quit' to exit): \")\n",
        "  tool_calls = process_query(user_query, tools)\n",
        "  answer += str(tool_calls)\n",
        "  print(tool_calls)"
      ],
      "metadata": {
        "id": "i2Dw8PxxIz6R"
      },
      "execution_count": null,
      "outputs": []
    },
    {
      "cell_type": "code",
      "source": [
        "print(answer)"
      ],
      "metadata": {
        "id": "T5s-UCZKpDdP"
      },
      "execution_count": null,
      "outputs": []
    },
    {
      "cell_type": "code",
      "source": [
        "import json\n",
        "import re\n",
        "\n",
        "def extract_json_blocks(input_str):\n",
        "    # Step 1: Remove extraneous square brackets that might surround the JSON block\n",
        "    input_str = input_str.replace(\"[\", \"\").replace(\"]\", \"\")\n",
        "\n",
        "    # Step 2: Regular expression to extract valid JSON-like structures (blocks with curly braces)\n",
        "    json_blocks = re.findall(r'\\{[^}]*\\}', input_str, re.DOTALL)\n",
        "\n",
        "    valid_jsons = []\n",
        "    for block in json_blocks:\n",
        "        try:\n",
        "            # Attempt to load each block as JSON (wrap them in list format if needed)\n",
        "            json_data = json.loads(block)\n",
        "            valid_jsons.append(json_data)\n",
        "        except json.JSONDecodeError:\n",
        "            # Ignore any invalid JSON blocks\n",
        "            continue\n",
        "\n",
        "    return valid_jsons\n",
        "\n",
        "# Test input string\n",
        "input_str = answer\n",
        "\n",
        "# Extract valid JSON blocks\n",
        "answer = extract_json_blocks(input_str)\n",
        "\n",
        "# Output the result\n",
        "print(answer)\n"
      ],
      "metadata": {
        "colab": {
          "base_uri": "https://localhost:8080/"
        },
        "id": "nLYwVyQ62vZy",
        "outputId": "6ed72d6a-68a6-4ad6-963b-871e642a2942"
      },
      "execution_count": 65,
      "outputs": [
        {
          "output_type": "stream",
          "name": "stdout",
          "text": [
            "[{'argument_name': 'needs_response', 'argument_value': True}, {'argument_name': 'type', 'argument_value': 'tickets'}, {'argument_name': 'ticket_need_response', 'argument_value': True}, {'argument_name': 'type', 'argument_value': 'issue'}, {'argument_name': 'type', 'argument_value': '$$PREV0.type'}, {'argument_name': 'ticket_need_response', 'argument_value': True}, {'argument_name': 'sprint_id', 'argument_value': '$$PREV1'}, {'argument_name': 'ticket_severity', 'argument_value': 'high'}, {'argument_name': 'severity_type', 'argument_value': '$$PREV1.severity'}, {'argument_name': 'type', 'argument_value': '$$PREV2.type'}, {'argument_name': 'due_on', 'argument_value': '$$PREV3.due_on'}, {'argument_name': 'severity_type', 'argument_value': '$$PREV5.severity_type'}, {'argument_name': 'ticket_source_channel', 'argument_value': 'support'}, {'argument_name': 'severity', 'argument_value': 'medium'}, {'argument_name': 'similarity', 'argument_value': 'don:core:dvrv-us-1:devo/0:issue/1'}, {'argument_name': 'priority', 'argument_value': 'P0'}, {'argument_name': 'priority', 'argument_value': 'P0'}, {'argument_name': 'type', 'argument_value': 'issue'}, {'argument_name': 'priority', 'argument_value': 'P0'}, {'argument_name': 'sprint_id', 'argument_value': '$$PREV0'}, {'argument_name': 'priority', 'argument_value': 'P0'}, {'argument_name': 'sprint_id', 'argument_value': '$$PREV0'}, {'argument_name': 'stage_name', 'argument_value': 'triage'}, {'argument_name': 'type', 'argument_value': 'issues'}, {'argument_name': 'created_by', 'argument_value': 'Cust123'}, {'argument_name': 'text_contains', 'argument_value': 'slack'}, {'argument_name': 'created_by', 'argument_value': 'Cust123'}, {'argument_name': 'text_contains', 'argument_value': 'slack'}, {'argument_name': 'created_by', 'argument_value': '$$PREV1'}, {'argument_name': 'sprint_id', 'argument_value': '$$PREV4'}, {'argument_name': 'sprint_id', 'argument_value': '$$PREV4'}, {'argument_name': 'created_by', 'argument_value': '$$PREV1'}, {'argument_name': 'sprint_id', 'argument_value': '$$PREV4'}, {'argument_name': 'priority', 'argument_value': 'severe'}, {'id': 'FEAT-123', 'type': 'issue', 'priority': 'severe', 'description': 'This is an issue'}, {'id': 'BUG-987', 'type': 'ticket', 'priority': 'severe', 'description': 'This is a ticket'}, {'argument_name': 'priority', 'argument_value': 'severe'}, {'argument_name': 'priority', 'argument_value': 'severe'}, {'argument_name': 'issues', 'argument_value': '$$PREV0'}, {'argument_name': 'issues', 'argument_value': '$$PREV1'}, {'argument_name': 'tickets', 'argument_value': '$$PREV0'}, {'argument_name': 'tasks', 'argument_value': '$$PREV0'}, {'argument_name': 'issues', 'argument_value': '$$PREV1'}, {'argument_name': 'tickets', 'argument_value': '$$PREV0'}, {'argument_name': 'tasks', 'argument_value': '$$PREV0'}, {'argument_name': 'issues', 'argument_value': '$$PREV1'}, {'argument_name': 'tickets', 'argument_value': '$$PREV0'}, {'argument_name': 'tasks', 'argument_value': '$$PREV0'}, {'argument_name': 'issues', 'argument_value': '$$PREV1'}, {'argument_name': 'tickets', 'argument_value': '$$PREV0'}, {'argument_name': 'tasks', 'argument_value': '$$PREV0'}, {'argument_name': 'issues', 'argument_value': '$$PREV1'}, {'argument_name': 'tickets', 'argument_value': '$$PREV0'}, {'argument_name': 'tasks', 'argument_value': '$$PREV0'}, {'argument_name': 'issues', 'argument_value': '$$PREV1'}, {'argument_name': 'tickets', 'argument_value': '$$PREV0'}, {'argument_name': 'tasks', 'argument_value': '$$PREV0'}, {'argument_name': 'issues', 'argument_value': '$$PREV1'}, {'argument_name': 'tickets', 'argument_value': '$$PREV0'}, {'argument_name': 'tasks', 'argument_value': '$$PREV0'}, {'argument_name': 'issues', 'argument_value': '$$PREV1'}, {'argument_name': 'tickets', 'argument_value': '$$PREV0'}, {'argument_name': 'tasks', 'argument_value': '$$PREV0'}, {'argument_name': 'issues', 'argument_value': '$$PREV1'}, {'argument_name': 'tickets', 'argument_value': '$$PREV0'}, {'argument_name': 'tasks', 'argument_value': '$$PREV0'}, {'argument_name': 'issues', 'argument_value': '$$PREV1'}, {'argument_name': 'tickets', 'argument_value': '$$PREV0'}, {'argument_name': 'tasks', 'argument_value': '$$PREV0'}, {'argument_name': 'issues', 'argument_value': '$$PREV1'}, {'argument_name': 'tickets', 'argument_value': '$$PREV0'}, {'argument_name': 'tasks', 'argument_value': '$$PREV0'}, {'argument_name': 'issues', 'argument_value': '$$PREV1'}, {'argument_name': 'tickets', 'argument_value': '$$PREV0'}, {'argument_name': 'tasks', 'argument_value': '$$PREV0'}, {'argument_name': 'issues', 'argument_value': '$$PREV1'}, {'argument_name': 'tickets', 'argument_value': '$$PREV0'}, {'argument_name': 'tasks', 'argument_value': '$$PREV0'}, {'argument_name': 'issues', 'argument_value': '$$PREV1'}, {'argument_name': 'tickets', 'argument_value': '$$PREV0'}, {'argument_name': 'tasks', 'argument_value': '$$PREV0'}, {'argument_name': 'issues', 'argument_value': '$$PREV1'}, {'argument_name': 'tickets', 'argument_value': '$$PREV0'}, {'argument_name': 'tasks', 'argument_value': '$$PREV0'}, {'argument_name': 'issues', 'argument_value': '$$PREV1'}, {'argument_name': 'tickets', 'argument_value': '$$PREV0'}, {'argument_name': 'tasks', 'argument_value': '$$PREV0'}, {'argument_name': 'issues', 'argument_value': '$$PREV1'}, {'argument_name': 'tickets', 'argument_value': '$$PREV0'}, {'argument_name': 'tasks', 'argument_value': '$$PREV0'}, {'argument_name': 'issues', 'argument_value': '$$PREV1'}, {'argument_name': 'tickets', 'argument_value': '$$PREV0'}, {'argument_name': 'tasks', 'argument_value': '$$PREV0'}, {'argument_name': 'issues', 'argument_value': '$$PREV1'}, {'argument_name': 'tickets', 'argument_value': '$$PREV0'}, {'argument_name': 'tasks', 'argument_value': '$$PREV0'}, {'argument_name': 'issues', 'argument_value': '$$PREV1'}, {'argument_name': 'tickets', 'argument_value': '$$PREV0'}, {'argument_name': 'tasks', 'argument_value': '$$PREV0'}, {'argument_name': 'issues', 'argument_value': '$$PREV1'}, {'argument_name': 'tickets', 'argument_value': '$$PREV0'}, {'argument_name': 'tasks', 'argument_value': '$$PREV0'}, {'argument_name': 'issues', 'argument_value': '$$PREV1'}, {'argument_name': 'tickets', 'argument_value': '$$PREV0'}, {'argument_name': 'tasks', 'argument_value': '$$PREV0'}, {'argument_name': 'issues', 'argument_value': '$$PREV1'}, {'argument_name': 'tickets', 'argument_value': '$$PREV0'}, {'argument_name': 'tasks', 'argument_value': '$$PREV0'}, {'argument_name': 'issues', 'argument_value': '$$PREV1'}, {'argument_name': 'tickets', 'argument_value': '$$PREV0'}, {'argument_name': 'tasks', 'argument_value': '$$PREV0'}, {'argument_name': 'issues', 'argument_value': '$$PREV1'}, {'argument_name': 'tickets', 'argument_value': '$$PREV0'}, {'argument_name': 'tasks', 'argument_value': '$$PREV0'}, {'argument_name': 'issues', 'argument_value': '$$PREV1'}, {'argument_name': 'tickets', 'argument_value': '$$PREV0'}, {'argument_name': 'tasks', 'argument_value': '$$PREV0'}, {'argument_name': 'issues', 'argument_value': '$$PREV1'}, {'argument_name': 'tickets', 'argument_value': '$$PREV0'}, {'argument_name': 'tasks', 'argument_value': '$$PREV0'}, {'argument_name': 'issues', 'argument_value': '$$PREV1'}, {'argument_name': 'tickets', 'argument_value': '$$PREV0'}, {'argument_name': 'tasks', 'argument_value': '$$PREV0'}, {'argument_name': 'issues', 'argument_value': '$$PREV1'}, {'argument_name': 'tickets', 'argument_value': '$$PREV0'}, {'argument_name': 'tasks', 'argument_value': '$$PREV0'}, {'argument_name': 'issues', 'argument_value': '$$PREV1'}, {'argument_name': 'tickets', 'argument_value': '$$PREV0'}, {'argument_name': 'tasks', 'argument_value': '$$PREV0'}, {'argument_name': 'issues', 'argument_value': '$$PREV1'}, {'argument_name': 'tickets', 'argument_value': '$$PREV0'}, {'argument_name': 'tasks', 'argument_value': '$$PREV0'}, {'argument_name': 'issues', 'argument_value': '$$PREV1'}, {'argument_name': 'tickets', 'argument_value': '$$PREV0'}, {'argument_name': 'tasks', 'argument_value': '$$PREV0'}, {'argument_name': 'issues', 'argument_value': '$$PREV1'}, {'argument_name': 'tickets', 'argument_value': '$$PREV0'}]\n"
          ]
        }
      ]
    },
    {
      "cell_type": "code",
      "source": [
        "ground_truth = extract_json_blocks(ground_truth)\n",
        "print(ground_truth)"
      ],
      "metadata": {
        "colab": {
          "base_uri": "https://localhost:8080/"
        },
        "id": "srhVW2B15OrE",
        "outputId": "5914729b-f2a4-4e3f-c0b7-913e6535dae2"
      },
      "execution_count": 66,
      "outputs": [
        {
          "output_type": "stream",
          "name": "stdout",
          "text": [
            "[{'argument_name': 'ticket_need_response', 'argument_value': True}, {'argument_name': 'ticket_rev_org', 'argument_value': 'REV-654'}, {'argument_name': 'type', 'argument_value': 'ticket'}, {'argument_name': 'ticket_need_response', 'argument_value': True}, {'argument_name': 'issue.rev_orgs', 'argument_value': 'REV-333'}, {'argument_name': 'ticket_severity', 'argument_value': 'high'}, {'argument_name': 'type', 'argument_value': 'ticket'}, {'argument_name': 'type', 'argument_value': 'ticket'}, {'argument_name': 'type', 'argument_value': 'task'}, {'argument_name': 'issue_priority', 'argument_value': 'p0'}, {'argument_name': 'type', 'argument_value': 'issue'}, {'argument_name': 'sprint_id', 'argument_value': '$$PREV3'}, {'argument_name': 'ticket_severity', 'argument_value': 'high'}, {'argument_name': 'type', 'argument_value': 'ticket'}, {'argument_name': 'created_by', 'argument_value': '$$PREV0'}, {'argument_name': 'stage_name', 'argument_value': 'triage'}, {'argument_name': 'type', 'argument_value': 'issue'}, {'argument_name': 'ticket_severity', 'argument_value': 'high'}, {'argument_name': 'ticket_source_channel', 'argument_value': 'slack'}, {'argument_name': 'type', 'argument_value': 'ticket'}, {'argument_name': 'sprint_id', 'argument_value': '$$PREV1'}]\n"
          ]
        }
      ]
    },
    {
      "cell_type": "code",
      "source": [
        "!pip install nltk\n",
        "!pip install rouge-score\n",
        "!pip install rouge"
      ],
      "metadata": {
        "id": "AoX_uEaKtF3_",
        "colab": {
          "base_uri": "https://localhost:8080/"
        },
        "outputId": "10b87aed-a984-4cf2-a28d-08806c8f6b7d"
      },
      "execution_count": 12,
      "outputs": [
        {
          "output_type": "stream",
          "name": "stdout",
          "text": [
            "Requirement already satisfied: nltk in /usr/local/lib/python3.10/dist-packages (3.8.1)\n",
            "Requirement already satisfied: click in /usr/local/lib/python3.10/dist-packages (from nltk) (8.1.7)\n",
            "Requirement already satisfied: joblib in /usr/local/lib/python3.10/dist-packages (from nltk) (1.4.2)\n",
            "Requirement already satisfied: regex>=2021.8.3 in /usr/local/lib/python3.10/dist-packages (from nltk) (2024.9.11)\n",
            "Requirement already satisfied: tqdm in /usr/local/lib/python3.10/dist-packages (from nltk) (4.66.5)\n",
            "Collecting rouge-score\n",
            "  Downloading rouge_score-0.1.2.tar.gz (17 kB)\n",
            "  Preparing metadata (setup.py) ... \u001b[?25l\u001b[?25hdone\n",
            "Requirement already satisfied: absl-py in /usr/local/lib/python3.10/dist-packages (from rouge-score) (1.4.0)\n",
            "Requirement already satisfied: nltk in /usr/local/lib/python3.10/dist-packages (from rouge-score) (3.8.1)\n",
            "Requirement already satisfied: numpy in /usr/local/lib/python3.10/dist-packages (from rouge-score) (1.26.4)\n",
            "Requirement already satisfied: six>=1.14.0 in /usr/local/lib/python3.10/dist-packages (from rouge-score) (1.16.0)\n",
            "Requirement already satisfied: click in /usr/local/lib/python3.10/dist-packages (from nltk->rouge-score) (8.1.7)\n",
            "Requirement already satisfied: joblib in /usr/local/lib/python3.10/dist-packages (from nltk->rouge-score) (1.4.2)\n",
            "Requirement already satisfied: regex>=2021.8.3 in /usr/local/lib/python3.10/dist-packages (from nltk->rouge-score) (2024.9.11)\n",
            "Requirement already satisfied: tqdm in /usr/local/lib/python3.10/dist-packages (from nltk->rouge-score) (4.66.5)\n",
            "Building wheels for collected packages: rouge-score\n",
            "  Building wheel for rouge-score (setup.py) ... \u001b[?25l\u001b[?25hdone\n",
            "  Created wheel for rouge-score: filename=rouge_score-0.1.2-py3-none-any.whl size=24935 sha256=15d7c661f51cef82ff6868fd36ee8d451115582c5473ad31d2af1815d3e362d4\n",
            "  Stored in directory: /root/.cache/pip/wheels/5f/dd/89/461065a73be61a532ff8599a28e9beef17985c9e9c31e541b4\n",
            "Successfully built rouge-score\n",
            "Installing collected packages: rouge-score\n",
            "Successfully installed rouge-score-0.1.2\n",
            "Collecting rouge\n",
            "  Downloading rouge-1.0.1-py3-none-any.whl.metadata (4.1 kB)\n",
            "Requirement already satisfied: six in /usr/local/lib/python3.10/dist-packages (from rouge) (1.16.0)\n",
            "Downloading rouge-1.0.1-py3-none-any.whl (13 kB)\n",
            "Installing collected packages: rouge\n",
            "Successfully installed rouge-1.0.1\n"
          ]
        }
      ]
    },
    {
      "cell_type": "markdown",
      "source": [
        "**Rouge** **Score**"
      ],
      "metadata": {
        "id": "ixGnzWCxBpNo"
      }
    },
    {
      "cell_type": "code",
      "source": [
        "import json\n",
        "from nltk.translate.bleu_score import sentence_bleu\n",
        "from rouge import Rouge\n",
        "\n",
        "def evaluate_json_bleu_rouge_list(llm_responses, ground_truths):\n",
        "    # Initialize lists to store scores for each pair\n",
        "    bleu_scores = []\n",
        "    rouge_scores_list = []\n",
        "\n",
        "    rouge = Rouge()\n",
        "\n",
        "    # # Ensure that both input lists have the same length\n",
        "    # if len(llm_responses) != len(ground_truths):\n",
        "    #     raise ValueError(\"The length of llm_responses and ground_truths must be the same.\")\n",
        "\n",
        "    # Iterate over the responses and ground truths\n",
        "    for llm_response, ground_truth in zip(llm_responses, ground_truths):\n",
        "        # Convert JSON objects to strings for comparison\n",
        "        llm_response_str = json.dumps(llm_response, sort_keys=True)\n",
        "        ground_truth_str = json.dumps(ground_truth, sort_keys=True)\n",
        "\n",
        "        # BLEU score evaluation\n",
        "        reference = [ground_truth_str.split()]  # ground truth as reference\n",
        "        candidate = llm_response_str.split()  # LLM response as candidate\n",
        "        bleu_score = sentence_bleu(reference, candidate)\n",
        "\n",
        "        # ROUGE score evaluation\n",
        "        rouge_scores = rouge.get_scores(llm_response_str, ground_truth_str, avg=True)\n",
        "\n",
        "        # Append the scores for the current pair\n",
        "        bleu_scores.append(bleu_score)\n",
        "        rouge_scores_list.append(rouge_scores)\n",
        "\n",
        "    # Return the BLEU and ROUGE scores for all pairs\n",
        "    return bleu_scores, rouge_scores_list\n",
        "\n",
        "# Example usage:\n",
        "llm_responses = answer\n",
        "ground_truths = ground_truth\n",
        "\n",
        "bleu, rouge = evaluate_json_bleu_rouge_list(llm_responses, ground_truths)\n",
        "print(\"ROUGE Scores:\", rouge[0]['rouge-l'])\n"
      ],
      "metadata": {
        "colab": {
          "base_uri": "https://localhost:8080/"
        },
        "id": "ewkfNEWR3RRl",
        "outputId": "36f7f0d3-64e2-4fa0-c9d1-f5f40cafe9cb"
      },
      "execution_count": 73,
      "outputs": [
        {
          "output_type": "stream",
          "name": "stdout",
          "text": [
            "ROUGE Scores: {'r': 0.75, 'p': 0.75, 'f': 0.749999995}\n"
          ]
        }
      ]
    }
  ]
}